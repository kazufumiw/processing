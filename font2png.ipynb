{
 "cells": [
  {
   "cell_type": "code",
   "execution_count": 1,
   "metadata": {},
   "outputs": [],
   "source": [
    "import PIL.Image\n",
    "import PIL.ImageDraw\n",
    "import PIL.ImageFont\n",
    "\n",
    "# 使うフォント，サイズ，描くテキストの設定\n",
    "ttfontname = \"/System/Library/Fonts/Supplemental/Times New Roman.ttf\"\n",
    "fontsize = 200\n",
    "text = \"turbulence\"\n",
    "\n",
    "# 画像サイズ，背景色，フォントの色を設定\n",
    "canvasSize    = (1500, 700)\n",
    "backgroundRGB = (255, 255, 255)\n",
    "textRGB       = (0, 0, 0)\n",
    "\n",
    "# 文字を描く画像の作成\n",
    "img  = PIL.Image.new('RGB', canvasSize, backgroundRGB)\n",
    "draw = PIL.ImageDraw.Draw(img)\n",
    "\n",
    "# 用意した画像に文字列を描く\n",
    "font = PIL.ImageFont.truetype(ttfontname, fontsize)\n",
    "textWidth, textHeight = draw.textsize(text,font=font)\n",
    "textTopLeft = (canvasSize[0]//6, canvasSize[1]//2-textHeight//2) # 前から1/6，上下中央に配置\n",
    "draw.text(textTopLeft, text, fill=textRGB, font=font)\n",
    "\n",
    "img.save(\"image.png\")"
   ]
  },
  {
   "cell_type": "code",
   "execution_count": null,
   "metadata": {},
   "outputs": [],
   "source": []
  }
 ],
 "metadata": {
  "kernelspec": {
   "display_name": "Python 3",
   "language": "python",
   "name": "python3"
  },
  "language_info": {
   "codemirror_mode": {
    "name": "ipython",
    "version": 3
   },
   "file_extension": ".py",
   "mimetype": "text/x-python",
   "name": "python",
   "nbconvert_exporter": "python",
   "pygments_lexer": "ipython3",
   "version": "3.7.1"
  }
 },
 "nbformat": 4,
 "nbformat_minor": 2
}
